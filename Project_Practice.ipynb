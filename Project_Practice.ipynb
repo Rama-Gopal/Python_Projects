{
 "cells": [
  {
   "cell_type": "markdown",
   "id": "71a3b66c",
   "metadata": {},
   "source": [
    "**Important functions for many projects**\n",
    "\n",
    "* Getting User Input\n",
    "* Creating functions that edit variables based on user input\n",
    "* Generating Output\n",
    "* Joining user input and Logic Flow"
   ]
  },
  {
   "cell_type": "markdown",
   "id": "85b768d8",
   "metadata": {},
   "source": [
    "**Function to display information**\n",
    "\n",
    "*Creating a function that displays a list for the user.*"
   ]
  },
  {
   "cell_type": "code",
   "execution_count": null,
   "id": "6f1a135f",
   "metadata": {},
   "outputs": [],
   "source": [
    "def display_list(mylist):\n",
    "    print(mylist)"
   ]
  },
  {
   "cell_type": "code",
   "execution_count": null,
   "id": "d0dabcd1",
   "metadata": {},
   "outputs": [],
   "source": [
    "mylist = [0,1,2,3,4,5,6,7,8,9]\n",
    "display_list(mylist)"
   ]
  },
  {
   "cell_type": "markdown",
   "id": "4269a098",
   "metadata": {},
   "source": [
    "**Accepting User Input**\n",
    "\n",
    "*Create a function that accepts user input and return it in the correct data type*"
   ]
  },
  {
   "cell_type": "code",
   "execution_count": null,
   "id": "0fdfebd6",
   "metadata": {},
   "outputs": [],
   "source": [
    "def user_choice():\n",
    "    '''Accept a number from 0 to 10 from the user.\n",
    "       This function accepts no parameters'''\n",
    "    \n",
    "    choice = input('Enter a number in the range (0-10): ')\n",
    "    \n",
    "    return int(choice)"
   ]
  },
  {
   "cell_type": "code",
   "execution_count": null,
   "id": "b19bfed0",
   "metadata": {},
   "outputs": [],
   "source": [
    "user_choice()"
   ]
  },
  {
   "cell_type": "markdown",
   "id": "bf9f6b14",
   "metadata": {},
   "source": [
    "*As you can see above, we didnot validate the user input.so we will do it now*"
   ]
  },
  {
   "cell_type": "code",
   "execution_count": null,
   "id": "987ffbc1",
   "metadata": {},
   "outputs": [],
   "source": [
    "def user_choice():\n",
    "    \n",
    "    '''Accept a number from 0 to 10 from the user.\n",
    "       This function accepts no parameters'''\n",
    "\n",
    "    while True:\n",
    "    \n",
    "        choice = input('Enter a number in the range (0-10): ')\n",
    "        if choice.isdigit():\n",
    "            if int(choice) in range(0,11):\n",
    "                return int(choice)\n",
    "                break\n",
    "            else:\n",
    "                print('Wrong Choice! Enter a number in the range(0-10)')\n",
    "                continue\n",
    "        else:\n",
    "            print('Wrong Choice! Enter a number')\n",
    "            continue"
   ]
  },
  {
   "cell_type": "code",
   "execution_count": null,
   "id": "e918b28b",
   "metadata": {},
   "outputs": [],
   "source": [
    "user_choice()"
   ]
  },
  {
   "cell_type": "markdown",
   "id": "aaf59461",
   "metadata": {},
   "source": [
    "As you can see, all the wrong inputs are displayed above, if you dont want to see all the wrong user inputs in the output section, use IPython.display.clear_output() to remove those wrong inputs"
   ]
  },
  {
   "cell_type": "code",
   "execution_count": 7,
   "id": "13cc35b9",
   "metadata": {},
   "outputs": [],
   "source": [
    "from IPython.display import clear_output"
   ]
  },
  {
   "cell_type": "code",
   "execution_count": null,
   "id": "8d08e13d",
   "metadata": {},
   "outputs": [],
   "source": [
    "def user_choice():\n",
    "    \n",
    "    '''Accept a number from 0 to 10 from the user.\n",
    "       This function accepts no parameters'''\n",
    "\n",
    "    while True:\n",
    "    \n",
    "        choice = input('Enter a number in the range (0-10): ')\n",
    "        if choice.isdigit():\n",
    "            if int(choice) in range(0,11):\n",
    "                return int(choice)\n",
    "                break\n",
    "            else:\n",
    "                clear_output()\n",
    "                print('Wrong Choice! Enter a number in the range(0-10)')\n",
    "                continue\n",
    "        else:\n",
    "            clear_output()\n",
    "            print('Wrong Choice! Enter a number')\n",
    "            continue"
   ]
  },
  {
   "cell_type": "code",
   "execution_count": null,
   "id": "26e6be7a",
   "metadata": {},
   "outputs": [],
   "source": [
    "user_choice()"
   ]
  },
  {
   "cell_type": "markdown",
   "id": "4fca5776",
   "metadata": {},
   "source": [
    "Now Lets create a game which has 3 element gamelist where user gives a position and text to replace in the gamelist. We need display_list(), position_choice, replacement_choice() and gameon_choice() "
   ]
  },
  {
   "cell_type": "code",
   "execution_count": 8,
   "id": "592d34d9",
   "metadata": {},
   "outputs": [],
   "source": [
    "def display_list(mylist):\n",
    "    print(mylist)"
   ]
  },
  {
   "cell_type": "code",
   "execution_count": 9,
   "id": "a5e0f82e",
   "metadata": {},
   "outputs": [],
   "source": [
    "def position_choice():\n",
    "    \n",
    "    choice = False\n",
    "    \n",
    "    while choice not in ('0', '1', '2'):\n",
    "        \n",
    "        choice = input('Pick a position to replace in (0, 1, 2): ')\n",
    "        if choice not in ('0', '1', '2'):\n",
    "            clear_output()\n",
    "            print('Wrong choice! Try again')\n",
    "            continue\n",
    "        else:\n",
    "            return int(choice)"
   ]
  },
  {
   "cell_type": "code",
   "execution_count": 10,
   "id": "dfc56882",
   "metadata": {},
   "outputs": [],
   "source": [
    "def replacement_choice(game_list, position):\n",
    "    \n",
    "    replacement_value = input('Enter replacement value: ')\n",
    "    \n",
    "    game_list[position] = replacement_value\n",
    "    \n",
    "    return game_list"
   ]
  },
  {
   "cell_type": "code",
   "execution_count": 11,
   "id": "a88426d2",
   "metadata": {},
   "outputs": [],
   "source": [
    "def gameon_choice():\n",
    "    \n",
    "    choice = 'blah'\n",
    "    \n",
    "    while choice.upper() not in ('Y', 'N'):\n",
    "        \n",
    "        choice = input('Would you like to play (Y or N): ')\n",
    "        if choice.upper() not in ('Y', 'N'):\n",
    "            clear_output()\n",
    "            print('Wrong Choice! Try Again')\n",
    "            continue\n",
    "        else:\n",
    "            if choice.upper() == 'Y':\n",
    "                return True\n",
    "            else:\n",
    "                return False"
   ]
  },
  {
   "cell_type": "markdown",
   "id": "651407d7",
   "metadata": {},
   "source": [
    "# Game Logic "
   ]
  },
  {
   "cell_type": "code",
   "execution_count": 13,
   "id": "2a5bec38",
   "metadata": {},
   "outputs": [
    {
     "name": "stdout",
     "output_type": "stream",
     "text": [
      "Wrong choice! Try again\n",
      "Pick a position to replace in (0, 1, 2): 1\n",
      "Enter replacement value: bam\n",
      "[1, 'bam', 3]\n",
      "Would you like to play (Y or N): y\n",
      "[1, 'bam', 3]\n",
      "Pick a position to replace in (0, 1, 2): 2\n",
      "Enter replacement value: dam\n",
      "[1, 'bam', 'dam']\n",
      "Would you like to play (Y or N): n\n"
     ]
    }
   ],
   "source": [
    "game_list = [1,2,3]\n",
    "\n",
    "# Ask if the user wants to play the game\n",
    "while gameon_choice():\n",
    "\n",
    "    # Display the game list to the user\n",
    "    display_list(game_list)\n",
    "\n",
    "    # Ask the user to select a position i.e index of the list element to replace\n",
    "    position = position_choice()\n",
    "\n",
    "    # Ask the user for the replacement value and update it in game_list accordingly\n",
    "    game_list = replacement_choice(game_list, position)\n",
    "\n",
    "    # display the updated list to the user\n",
    "    display_list(game_list)"
   ]
  },
  {
   "cell_type": "code",
   "execution_count": null,
   "id": "f5d7b3b0",
   "metadata": {},
   "outputs": [],
   "source": []
  }
 ],
 "metadata": {
  "kernelspec": {
   "display_name": "Python 3 (ipykernel)",
   "language": "python",
   "name": "python3"
  },
  "language_info": {
   "codemirror_mode": {
    "name": "ipython",
    "version": 3
   },
   "file_extension": ".py",
   "mimetype": "text/x-python",
   "name": "python",
   "nbconvert_exporter": "python",
   "pygments_lexer": "ipython3",
   "version": "3.9.12"
  }
 },
 "nbformat": 4,
 "nbformat_minor": 5
}
