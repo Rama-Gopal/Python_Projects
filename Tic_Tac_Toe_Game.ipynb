{
 "cells": [
  {
   "cell_type": "markdown",
   "id": "0acf8705",
   "metadata": {},
   "source": [
    "# Lets Create Tic-Tac-Toe Game\n",
    "\n",
    "* 2 players should be able to play the game (both sitting at the same computer)\n",
    "* The board should be printed out every time a player makes a move\n",
    "* You should be able to accept input of the player position and then place a symbol on the board"
   ]
  },
  {
   "cell_type": "markdown",
   "id": "7bef7e9d",
   "metadata": {},
   "source": [
    "Lets just imagine playing the game and write down the necessary steps for one round of tic tac toe\n",
    "\n",
    "1 Ask the user if he/she wants to play the game. - can also be done in game logic section\n",
    "\n",
    "2 If yes, display the empty game board. - display_game_board()\n",
    "\n",
    "3 Ask player one to make a move(i.e make a choice). - player_choice()\n",
    "\n",
    "4 Update player one's choice on the board and display the game board - update_board(game_list, player_choice) - win_check(game_board)\n",
    "\n",
    "5 Repeat the steps 3, 4 for player two.\n",
    "\n",
    "6 Steps 3,4,5 until a player wins or tie game.\n",
    "\n",
    "But there are some other steps necessary.\n",
    "\n",
    "* For example you cannot update player's choice, if that position is already occupied.so a check is necessary before updating the position on gameboard.\n",
    "* Also, once all positions on the gameboard are occupied, the game ends.\n",
    "* There is also a need to check if a player won the game after every update and if not then you need to check if the board is full then there is a tie."
   ]
  },
  {
   "cell_type": "markdown",
   "id": "16579d51",
   "metadata": {},
   "source": [
    "*Lets write a function to display the tic-tac-toe game board*"
   ]
  },
  {
   "cell_type": "code",
   "execution_count": 15,
   "id": "9bb2fa54",
   "metadata": {},
   "outputs": [],
   "source": [
    "from tabulate import tabulate"
   ]
  },
  {
   "cell_type": "code",
   "execution_count": 16,
   "id": "ac4a14e5",
   "metadata": {},
   "outputs": [],
   "source": [
    "def display_gameboard(game_list):\n",
    "    print(tabulate(tabular_data=game_list, tablefmt='fancy_grid'))"
   ]
  },
  {
   "cell_type": "markdown",
   "id": "a5ae860d",
   "metadata": {},
   "source": [
    "*Write a function asking a player to make a move*"
   ]
  },
  {
   "cell_type": "code",
   "execution_count": 17,
   "id": "b0e54a2d",
   "metadata": {},
   "outputs": [],
   "source": [
    "position_mapping = {'1': '0 0', '2': '0 1', '3': '0 2',\n",
    "                    '4': '1 0', '5': '1 1', '6': '1 2',\n",
    "                    '7': '2 0', '8': '2 1', '9': '2 2'}"
   ]
  },
  {
   "cell_type": "code",
   "execution_count": 18,
   "id": "7224b72d",
   "metadata": {},
   "outputs": [],
   "source": [
    "def player_choice(game_board):\n",
    "    \n",
    "    while True:\n",
    "    \n",
    "        choice = input('Enter the position to be updated (1-9): ')\n",
    "\n",
    "        if choice.isdigit():\n",
    "            if int(choice) in range(1, 10):\n",
    "                row, column = position_mapping[choice].split()\n",
    "                if game_board[int(row)][int(column)]:\n",
    "                    print('The position is already occupied. Enter another position')\n",
    "                    continue\n",
    "                else:\n",
    "                    return (int(row), int(column))\n",
    "            else:\n",
    "                print('Wrong input.Enter a number in range(1-9)')\n",
    "                continue\n",
    "        else:\n",
    "            print('Wrong input.Enter a number')\n",
    "            continue"
   ]
  },
  {
   "cell_type": "markdown",
   "id": "b1c0c76b",
   "metadata": {},
   "source": [
    "*Lets update the gameboard now that we have the player's choice*"
   ]
  },
  {
   "cell_type": "code",
   "execution_count": 19,
   "id": "e6a328e6",
   "metadata": {},
   "outputs": [],
   "source": [
    "def update_board(game_board, player_choice, player_symbol):\n",
    "    game_board[player_choice[0]][player_choice[1]] = player_symbol\n",
    "    return game_board"
   ]
  },
  {
   "cell_type": "markdown",
   "id": "08b1d4ca",
   "metadata": {},
   "source": [
    "*Now that we have updated the board, lets check if win condition is satisfied*"
   ]
  },
  {
   "cell_type": "code",
   "execution_count": 20,
   "id": "cceb658e",
   "metadata": {},
   "outputs": [],
   "source": [
    "def win_check(game_board, players):\n",
    "    for player in players:\n",
    "        # Checking if a row is filled with same symbol\n",
    "        for row in game_board:\n",
    "            if row == list(players[player])*3:\n",
    "                return player\n",
    "        # Checking if a column is filled with same symbol\n",
    "        columns = ([x[0] for x in game_board], [x[1] for x in game_board], [x[2] for x in game_board])\n",
    "        for column in columns:\n",
    "            if column == list(players[player])*3:\n",
    "                return player\n",
    "        # Checking if a diagonal is filled with same symbol\n",
    "        diagonals = ([lst[ind] for ind,lst in enumerate(game_board)], [lst[ind] for ind,lst in enumerate(game_board[::-1])])\n",
    "        for diagonal in diagonals:\n",
    "            if diagonal == list(players[player])*3:\n",
    "                return player\n",
    "    return 0\n",
    "                     "
   ]
  },
  {
   "cell_type": "markdown",
   "id": "c85a3077",
   "metadata": {},
   "source": [
    "*Lets write a function to check if the game board is full*"
   ]
  },
  {
   "cell_type": "code",
   "execution_count": 21,
   "id": "2e70ed93",
   "metadata": {},
   "outputs": [],
   "source": [
    "def full_board(game_list):\n",
    "    for x in game_list:\n",
    "        if '' in x:\n",
    "            return False\n",
    "    return True   "
   ]
  },
  {
   "cell_type": "markdown",
   "id": "21be0fc1",
   "metadata": {},
   "source": [
    "*Lets write a function to check if the game is tie*"
   ]
  },
  {
   "cell_type": "code",
   "execution_count": 22,
   "id": "a6082287",
   "metadata": {},
   "outputs": [],
   "source": [
    "def tie_check(game_board, players):\n",
    "    if full_board(game_board):\n",
    "        if win_check(game_board, players) == 0:\n",
    "            return True\n",
    "    return False"
   ]
  },
  {
   "cell_type": "markdown",
   "id": "31d106a9",
   "metadata": {},
   "source": [
    "# Game Logic"
   ]
  },
  {
   "cell_type": "code",
   "execution_count": 23,
   "id": "a89dcc58",
   "metadata": {},
   "outputs": [],
   "source": [
    "import random"
   ]
  },
  {
   "cell_type": "code",
   "execution_count": 14,
   "id": "24da685b",
   "metadata": {},
   "outputs": [
    {
     "name": "stdout",
     "output_type": "stream",
     "text": [
      "Do you want to play Tic-Tac-Toe? (Enter Y or N): y\n",
      "╒══╤══╤══╕\n",
      "│  │  │  │\n",
      "├──┼──┼──┤\n",
      "│  │  │  │\n",
      "├──┼──┼──┤\n",
      "│  │  │  │\n",
      "╘══╧══╧══╛\n",
      "player 1 starts the game!\n",
      "Enter the position to be updated (1-9): 5\n",
      "╒══╤═══╤══╕\n",
      "│  │   │  │\n",
      "├──┼───┼──┤\n",
      "│  │ X │  │\n",
      "├──┼───┼──┤\n",
      "│  │   │  │\n",
      "╘══╧═══╧══╛\n",
      "Enter the position to be updated (1-9): 1\n",
      "╒═══╤═══╤══╕\n",
      "│ O │   │  │\n",
      "├───┼───┼──┤\n",
      "│   │ X │  │\n",
      "├───┼───┼──┤\n",
      "│   │   │  │\n",
      "╘═══╧═══╧══╛\n",
      "Enter the position to be updated (1-9): 3\n",
      "╒═══╤═══╤═══╕\n",
      "│ O │   │ X │\n",
      "├───┼───┼───┤\n",
      "│   │ X │   │\n",
      "├───┼───┼───┤\n",
      "│   │   │   │\n",
      "╘═══╧═══╧═══╛\n",
      "Enter the position to be updated (1-9): 7\n",
      "╒═══╤═══╤═══╕\n",
      "│ O │   │ X │\n",
      "├───┼───┼───┤\n",
      "│   │ X │   │\n",
      "├───┼───┼───┤\n",
      "│ O │   │   │\n",
      "╘═══╧═══╧═══╛\n",
      "Enter the position to be updated (1-9): 4\n",
      "╒═══╤═══╤═══╕\n",
      "│ O │   │ X │\n",
      "├───┼───┼───┤\n",
      "│ X │ X │   │\n",
      "├───┼───┼───┤\n",
      "│ O │   │   │\n",
      "╘═══╧═══╧═══╛\n",
      "Enter the position to be updated (1-9): 6\n",
      "╒═══╤═══╤═══╕\n",
      "│ O │   │ X │\n",
      "├───┼───┼───┤\n",
      "│ X │ X │ O │\n",
      "├───┼───┼───┤\n",
      "│ O │   │   │\n",
      "╘═══╧═══╧═══╛\n",
      "Enter the position to be updated (1-9): 2\n",
      "╒═══╤═══╤═══╕\n",
      "│ O │ X │ X │\n",
      "├───┼───┼───┤\n",
      "│ X │ X │ O │\n",
      "├───┼───┼───┤\n",
      "│ O │   │   │\n",
      "╘═══╧═══╧═══╛\n",
      "Enter the position to be updated (1-9): 8\n",
      "╒═══╤═══╤═══╕\n",
      "│ O │ X │ X │\n",
      "├───┼───┼───┤\n",
      "│ X │ X │ O │\n",
      "├───┼───┼───┤\n",
      "│ O │ O │   │\n",
      "╘═══╧═══╧═══╛\n",
      "Enter the position to be updated (1-9): 9\n",
      "╒═══╤═══╤═══╕\n",
      "│ O │ X │ X │\n",
      "├───┼───┼───┤\n",
      "│ X │ X │ O │\n",
      "├───┼───┼───┤\n",
      "│ O │ O │ X │\n",
      "╘═══╧═══╧═══╛\n",
      "Game is Tie!\n",
      "Do you want to play Tic-Tac-Toe? (Enter Y or N): n\n"
     ]
    }
   ],
   "source": [
    "gameon = True\n",
    "\n",
    "while gameon:\n",
    "    \n",
    "    gameon_choice = input('Do you want to play Tic-Tac-Toe? (Enter Y or N): ')\n",
    "    \n",
    "    if gameon_choice.upper() not in ('Y', 'N'):\n",
    "        print('Wrong Input!Try Again')\n",
    "        continue\n",
    "    elif gameon_choice.upper() == 'N':\n",
    "        break\n",
    "    else:\n",
    "        game_list = [['', '', ''], ['', '', ''], ['', '', '']]\n",
    "        # Display the game board\n",
    "        display_gameboard(game_list)\n",
    "        # Assign the symbols for players\n",
    "        players = {1: 'X', 2:'O'}\n",
    "        # Decide who starts the game\n",
    "        starting_player = random.randint(1,2)\n",
    "        print(f'player {starting_player} starts the game!')\n",
    "            \n",
    "        previous_player = 0\n",
    "        while not full_board(game_list):\n",
    "            # Ask player to make a move\n",
    "            choice = player_choice(game_list)\n",
    "            # Update the player's move on the board\n",
    "            if previous_player == 0:\n",
    "                game_list = update_board(game_list, choice, players[starting_player])\n",
    "                previous_player = starting_player\n",
    "            elif previous_player == 1:\n",
    "                game_list = update_board(game_list, choice, players[2])\n",
    "                previous_player = 2\n",
    "            else:\n",
    "                game_list = update_board(game_list, choice, players[1])\n",
    "                previous_player = 1\n",
    "            # Display the game board after the update\n",
    "            display_gameboard(game_list)\n",
    "            # Check if the game is won or Tie\n",
    "            result = win_check(game_list, players)\n",
    "            if result == 1:\n",
    "                print('Player One Wins!')\n",
    "                break\n",
    "            elif result == 2:\n",
    "                print('Player Two Wins!')\n",
    "                break\n",
    "            elif result == 0:\n",
    "                if tie_check(game_list, players):\n",
    "                    print('Game is Tie!')\n",
    "                    break\n",
    "                else:\n",
    "                    continue"
   ]
  }
 ],
 "metadata": {
  "kernelspec": {
   "display_name": "Python 3 (ipykernel)",
   "language": "python",
   "name": "python3"
  },
  "language_info": {
   "codemirror_mode": {
    "name": "ipython",
    "version": 3
   },
   "file_extension": ".py",
   "mimetype": "text/x-python",
   "name": "python",
   "nbconvert_exporter": "python",
   "pygments_lexer": "ipython3",
   "version": "3.9.12"
  }
 },
 "nbformat": 4,
 "nbformat_minor": 5
}
